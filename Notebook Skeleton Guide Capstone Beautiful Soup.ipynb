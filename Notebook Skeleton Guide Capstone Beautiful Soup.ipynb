{
 "cells": [
  {
   "cell_type": "markdown",
   "metadata": {},
   "source": [
    "# Capstone Webscrapping using BeautifulSoup\n",
    "\n",
    "This notebook contains guidances & tasks on the data processing for the application\n",
    "\n",
    "## background\n",
    "\n",
    "The dollar (USD) is the currency most widely used in international transactions. Therefore data on the exchange rate is important in trading activities. The dollar rate was obtained from the website www.exchange-rates.org, a website that provides accurate exchange rate information for more than 18 years using web scraping-a method of data collection by extracting specific data on a number of web pages.\n",
    "\n",
    "We can scrape one of the tables available on the website, namely 'the USD to IDR data table for the last six months'. After that, it is visualized to make it easier for readers to get insight quickly and efficiently.\n",
    "\n",
    "\n",
    "## Requesting the Data and Creating a BeautifulSoup\n",
    "\n",
    "Let's begin with requesting the web from the site with `get` method."
   ]
  },
  {
   "cell_type": "code",
   "execution_count": 2,
   "metadata": {
    "ExecuteTime": {
     "end_time": "2020-01-13T05:12:23.275508Z",
     "start_time": "2020-01-13T05:12:20.009898Z"
    }
   },
   "outputs": [],
   "source": [
    "import requests\n",
    "\n",
    "url_get = requests.get('https://www.exchange-rates.org/history/IDR/USD/T')"
   ]
  },
  {
   "cell_type": "markdown",
   "metadata": {},
   "source": [
    "To visualize what exactly you get from the `request.get`, we can use .content so ee what we exactly get, in here i slice it so it won't make our screen full of the html we get from the page. You can delete the slicing if you want to see what we fully get."
   ]
  },
  {
   "cell_type": "code",
   "execution_count": 3,
   "metadata": {
    "ExecuteTime": {
     "end_time": "2020-01-13T05:12:23.290648Z",
     "start_time": "2020-01-13T05:12:23.277650Z"
    }
   },
   "outputs": [
    {
     "data": {
      "text/plain": [
       "b'!DOCTYPE html>\\r\\n<!--[if lt IE 9]>\\r\\n<html class=\"no-js ie8 oldie\" lang=\"en\" xml:lang=\\'en\\'>\\r\\n<![endif]-->\\r\\n<!--[if gt IE 8]><!--><html class=\"no-js\" lang=\"en\" xml:lang=\\'en\\'><!--<![endif]-->\\r\\n<head>\\r\\n<title>USD to IDR exchange rate history</title>\\r\\n<meta http-equiv=\"X-UA-Compatible\" content=\"IE=edge\">\\r\\n<meta name=\"viewport\" content=\"width=device-width, initial-scale=1, maximum-scale=5\">\\r\\n<meta charset=\"utf-8\" /><meta http-equiv=\"Content-Type\" content=\"text/html; charset=utf-8\" />\\r\\n<base href=\"http'"
      ]
     },
     "execution_count": 3,
     "metadata": {},
     "output_type": "execute_result"
    }
   ],
   "source": [
    "url_get.content[1:500]"
   ]
  },
  {
   "cell_type": "markdown",
   "metadata": {},
   "source": [
    "As we can see we get a very unstructured and complex html, which actually contains the codes needed to show the webpages on your web browser. But we as human still confused what and where we can use that piece of code, so here where we use the beautifulsoup. Beautiful soup class will result a beautifulsoup object. Beautiful Soup transforms a complex HTML document into a complex tree of Python objects. \n",
    "\n",
    "Let's make Beautiful soup object and feel free to explore the object here."
   ]
  },
  {
   "cell_type": "code",
   "execution_count": 4,
   "metadata": {
    "ExecuteTime": {
     "end_time": "2020-01-13T05:12:23.808122Z",
     "start_time": "2020-01-13T05:12:23.292610Z"
    }
   },
   "outputs": [
    {
     "name": "stdout",
     "output_type": "stream",
     "text": [
      "<class 'bs4.BeautifulSoup'>\n"
     ]
    }
   ],
   "source": [
    "from bs4 import BeautifulSoup \n",
    "\n",
    "soup = BeautifulSoup(url_get.content,\"html.parser\")\n",
    "print(type(soup))"
   ]
  },
  {
   "cell_type": "markdown",
   "metadata": {},
   "source": [
    "## Finding the right key to scrap the data & Extracting the right information"
   ]
  },
  {
   "cell_type": "markdown",
   "metadata": {},
   "source": [
    "Based on inspecting results on the 'USD to IDR History for Last 6 Months' table on the web page. The data is tabulated in the `table` as the first tag with a class or key `data-rate-history`. We can pass this variable as a parameter to `find()`."
   ]
  },
  {
   "cell_type": "code",
   "execution_count": 5,
   "metadata": {},
   "outputs": [
    {
     "name": "stdout",
     "output_type": "stream",
     "text": [
      "table border=\"0\" cellpadding=\"0\" cellspacing=\"0\" class=\"history-rates-data\">\n",
      " <thead>\n",
      "  <tr>\n",
      "   <th class=\"ltr-bidi-fix\">\n",
      "    Date\n",
      "   </th>\n",
      "   <th class=\"ltr-bidi-fix\">\n",
      "    US Dollar to Indonesian Rupiah\n",
      "   </th>\n",
      "  </tr>\n",
      " </thead>\n",
      " <tbody>\n",
      "  <tr>\n",
      "   <td>\n",
      "    <a class=\"w\" href=\"/exchange-rate-history/usd-idr-2023-05-12\">\n",
      "     May 12, 2023\n",
      "    </a>\n",
      "    <a class=\"n\" href=\"/exchange-rate-history/usd-idr-2023-05-12\">\n",
      "     2023-5-12\n",
      "    </a>\n",
      "   </td>\n",
      "   <td>\n",
      "    <span class=\"w\">\n",
      "     <span class=\"now\n"
     ]
    }
   ],
   "source": [
    "table = soup.find('table', attrs={'class':\"history-rates-data\"})\n",
    "print(table.prettify()[1:500])"
   ]
  },
  {
   "cell_type": "markdown",
   "metadata": {},
   "source": [
    "From the data above, the contents of the table can be found by extracting each row using the parameter `tr` and `td` for each column"
   ]
  },
  {
   "cell_type": "code",
   "execution_count": 6,
   "metadata": {},
   "outputs": [
    {
     "name": "stdout",
     "output_type": "stream",
     "text": [
      "[<tr>\n",
      "<th class=\"ltr-bidi-fix\">Date</th>\n",
      "<th class=\"ltr-bidi-fix\">US Dollar to Indonesian Rupiah</th>\n",
      "</tr>, <tr>\n",
      "<td>\n",
      "<a class=\"w\" href=\"/exchange-rate-history/usd-idr-2023-05-12\">May 12, 2023</a>\n",
      "<a class=\"n\" href=\"/exchange-rate-history/usd-idr-2023-05-12\">2023-5-12</a>\n",
      "</td>\n",
      "<td>\n",
      "<span class=\"w\"><span class=\"nowrap\"><span class=\"currencySymbol\">$</span>1 =</span> <span class=\"nowrap\"><span class=\"currencySymbol\">Rp</span>14,844</span></span>\n",
      "<span class=\"n\"><span class=\"nowrap\"><span class=\"currencySymbol\">$</span>1 =</span> <span class=\"nowrap\"><span class=\"currencySymbol\">Rp</span>14,844</span></span>\n",
      "</td>\n",
      "</tr>]\n"
     ]
    }
   ],
   "source": [
    "tr = table.find_all('tr')\n",
    "print(tr[:2])"
   ]
  },
  {
   "cell_type": "markdown",
   "metadata": {},
   "source": [
    "Following the results\n",
    "- Tabel history-rates-data\n",
    "    * 1st row, 1st column : Date\n",
    "    * 1st row, 2nd column : Exchange Rate"
   ]
  },
  {
   "cell_type": "markdown",
   "metadata": {},
   "source": [
    "to extract the repeatable spesific information such as date and exchange rate. We can use `find_all` to get specific information for a particular tag.   "
   ]
  },
  {
   "cell_type": "markdown",
   "metadata": {},
   "source": [
    "- Date information which has tag `a` further divided into two classes. Class `w` and class `n`. the difference is in the writing format and we only use one of them."
   ]
  },
  {
   "cell_type": "code",
   "execution_count": 14,
   "metadata": {},
   "outputs": [
    {
     "name": "stdout",
     "output_type": "stream",
     "text": [
      "2023-5-10\n",
      "May 10, 2023\n"
     ]
    }
   ],
   "source": [
    "# extract date \n",
    "print(soup.find_all('a',attrs={'class':'n'})[2].text)\n",
    "print(soup.find_all('a',attrs={'class':'w'})[2].text)"
   ]
  },
  {
   "cell_type": "markdown",
   "metadata": {},
   "source": [
    "- Exchange Rate which has tag `span` further divided into two classes. Class `w` and class `n`."
   ]
  },
  {
   "cell_type": "code",
   "execution_count": 15,
   "metadata": {},
   "outputs": [
    {
     "name": "stdout",
     "output_type": "stream",
     "text": [
      "$1 = Rp14,698\n",
      "$1 = Rp14,698\n"
     ]
    }
   ],
   "source": [
    "#extract exchange rate\n",
    "print(soup.find_all('span',attrs={'class':'n'})[2].text)\n",
    "print(soup.find_all('span',attrs={'class':'w'})[2].text)"
   ]
  },
  {
   "cell_type": "markdown",
   "metadata": {},
   "source": [
    "## Extracting the Information"
   ]
  },
  {
   "cell_type": "markdown",
   "metadata": {},
   "source": [
    "as we know using the find_all function, we get data *a date* and *a exchange_rate*. To get the whole data use the looping process with range().  \n",
    "\n",
    "Previously, we have to know the number of `rows` in data. Then input the row length as the range parameter in Looping `for`. This data is saved in `temp` object. After a quick peek, we can see that the data starts from the most recent date back to the past. To invert the date, we use `temp[::-1]`.    "
   ]
  },
  {
   "cell_type": "code",
   "execution_count": 23,
   "metadata": {},
   "outputs": [],
   "source": [
    "rows = len(table.find_all('a',attrs={'class':'n'}))"
   ]
  },
  {
   "cell_type": "code",
   "execution_count": 31,
   "metadata": {
    "ExecuteTime": {
     "end_time": "2020-01-13T05:12:24.008256Z",
     "start_time": "2020-01-13T05:12:23.980358Z"
    }
   },
   "outputs": [
    {
     "data": {
      "text/plain": [
       "[('2023-5-12', '$1 = Rp14,844'),\n",
       " ('2023-5-11', '$1 = Rp14,776'),\n",
       " ('2023-5-10', '$1 = Rp14,698'),\n",
       " ('2023-5-9', '$1 = Rp14,776'),\n",
       " ('2023-5-8', '$1 = Rp14,744'),\n",
       " ('2023-5-5', '$1 = Rp14,675'),\n",
       " ('2023-5-4', '$1 = Rp14,699'),\n",
       " ('2023-5-3', '$1 = Rp14,680'),\n",
       " ('2023-5-2', '$1 = Rp14,747'),\n",
       " ('2023-5-1', '$1 = Rp14,677'),\n",
       " ('2023-4-28', '$1 = Rp14,674'),\n",
       " ('2023-4-27', '$1 = Rp14,691'),\n",
       " ('2023-4-26', '$1 = Rp14,841'),\n",
       " ('2023-4-25', '$1 = Rp14,940'),\n",
       " ('2023-4-24', '$1 = Rp14,934'),\n",
       " ('2023-4-21', '$1 = Rp14,936'),\n",
       " ('2023-4-20', '$1 = Rp14,954'),\n",
       " ('2023-4-19', '$1 = Rp14,995'),\n",
       " ('2023-4-18', '$1 = Rp14,889'),\n",
       " ('2023-4-17', '$1 = Rp14,850'),\n",
       " ('2023-4-14', '$1 = Rp14,782'),\n",
       " ('2023-4-13', '$1 = Rp14,722'),\n",
       " ('2023-4-12', '$1 = Rp14,835'),\n",
       " ('2023-4-11', '$1 = Rp14,915'),\n",
       " ('2023-4-10', '$1 = Rp14,950'),\n",
       " ('2023-4-7', '$1 = Rp14,941'),\n",
       " ('2023-4-6', '$1 = Rp14,931'),\n",
       " ('2023-4-5', '$1 = Rp14,960'),\n",
       " ('2023-4-4', '$1 = Rp14,957'),\n",
       " ('2023-4-3', '$1 = Rp14,922'),\n",
       " ('2023-3-31', '$1 = Rp14,969'),\n",
       " ('2023-3-30', '$1 = Rp15,024'),\n",
       " ('2023-3-29', '$1 = Rp15,034'),\n",
       " ('2023-3-28', '$1 = Rp15,060'),\n",
       " ('2023-3-27', '$1 = Rp15,107'),\n",
       " ('2023-3-24', '$1 = Rp15,165'),\n",
       " ('2023-3-23', '$1 = Rp15,085'),\n",
       " ('2023-3-22', '$1 = Rp15,253'),\n",
       " ('2023-3-21', '$1 = Rp15,301'),\n",
       " ('2023-3-20', '$1 = Rp15,343'),\n",
       " ('2023-3-17', '$1 = Rp15,375'),\n",
       " ('2023-3-16', '$1 = Rp15,429'),\n",
       " ('2023-3-15', '$1 = Rp15,459'),\n",
       " ('2023-3-14', '$1 = Rp15,380'),\n",
       " ('2023-3-13', '$1 = Rp15,416'),\n",
       " ('2023-3-10', '$1 = Rp15,503'),\n",
       " ('2023-3-9', '$1 = Rp15,495'),\n",
       " ('2023-3-8', '$1 = Rp15,449'),\n",
       " ('2023-3-7', '$1 = Rp15,429'),\n",
       " ('2023-3-6', '$1 = Rp15,354'),\n",
       " ('2023-3-3', '$1 = Rp15,278'),\n",
       " ('2023-3-2', '$1 = Rp15,322'),\n",
       " ('2023-3-1', '$1 = Rp15,249'),\n",
       " ('2023-2-28', '$1 = Rp15,241'),\n",
       " ('2023-2-27', '$1 = Rp15,216'),\n",
       " ('2023-2-24', '$1 = Rp15,265'),\n",
       " ('2023-2-23', '$1 = Rp15,211'),\n",
       " ('2023-2-22', '$1 = Rp15,197'),\n",
       " ('2023-2-21', '$1 = Rp15,235'),\n",
       " ('2023-2-20', '$1 = Rp15,168'),\n",
       " ('2023-2-17', '$1 = Rp15,166'),\n",
       " ('2023-2-16', '$1 = Rp15,144'),\n",
       " ('2023-2-15', '$1 = Rp15,205'),\n",
       " ('2023-2-14', '$1 = Rp15,186'),\n",
       " ('2023-2-13', '$1 = Rp15,216'),\n",
       " ('2023-2-10', '$1 = Rp15,188'),\n",
       " ('2023-2-9', '$1 = Rp15,147'),\n",
       " ('2023-2-8', '$1 = Rp15,133'),\n",
       " ('2023-2-7', '$1 = Rp15,154'),\n",
       " ('2023-2-6', '$1 = Rp15,198'),\n",
       " ('2023-2-3', '$1 = Rp15,095'),\n",
       " ('2023-2-2', '$1 = Rp14,907'),\n",
       " ('2023-2-1', '$1 = Rp14,896'),\n",
       " ('2023-1-31', '$1 = Rp15,002'),\n",
       " ('2023-1-30', '$1 = Rp15,013'),\n",
       " ('2023-1-27', '$1 = Rp14,973'),\n",
       " ('2023-1-26', '$1 = Rp14,955'),\n",
       " ('2023-1-25', '$1 = Rp14,940'),\n",
       " ('2023-1-24', '$1 = Rp14,956'),\n",
       " ('2023-1-23', '$1 = Rp15,026'),\n",
       " ('2023-1-20', '$1 = Rp15,063'),\n",
       " ('2023-1-19', '$1 = Rp15,154'),\n",
       " ('2023-1-18', '$1 = Rp15,138'),\n",
       " ('2023-1-17', '$1 = Rp15,180'),\n",
       " ('2023-1-16', '$1 = Rp15,126'),\n",
       " ('2023-1-13', '$1 = Rp15,115'),\n",
       " ('2023-1-12', '$1 = Rp15,206'),\n",
       " ('2023-1-11', '$1 = Rp15,432'),\n",
       " ('2023-1-10', '$1 = Rp15,536'),\n",
       " ('2023-1-9', '$1 = Rp15,596'),\n",
       " ('2023-1-6', '$1 = Rp15,607'),\n",
       " ('2023-1-5', '$1 = Rp15,635'),\n",
       " ('2023-1-4', '$1 = Rp15,582'),\n",
       " ('2023-1-3', '$1 = Rp15,594'),\n",
       " ('2023-1-2', '$1 = Rp15,554'),\n",
       " ('2022-12-30', '$1 = Rp15,534'),\n",
       " ('2022-12-29', '$1 = Rp15,627'),\n",
       " ('2022-12-28', '$1 = Rp15,789'),\n",
       " ('2022-12-27', '$1 = Rp15,620'),\n",
       " ('2022-12-26', '$1 = Rp15,621'),\n",
       " ('2022-12-23', '$1 = Rp15,582'),\n",
       " ('2022-12-22', '$1 = Rp15,574'),\n",
       " ('2022-12-21', '$1 = Rp15,540'),\n",
       " ('2022-12-20', '$1 = Rp15,564'),\n",
       " ('2022-12-19', '$1 = Rp15,568'),\n",
       " ('2022-12-16', '$1 = Rp15,616'),\n",
       " ('2022-12-15', '$1 = Rp15,629'),\n",
       " ('2022-12-14', '$1 = Rp15,543'),\n",
       " ('2022-12-13', '$1 = Rp15,560'),\n",
       " ('2022-12-12', '$1 = Rp15,676'),\n",
       " ('2022-12-9', '$1 = Rp15,604'),\n",
       " ('2022-12-8', '$1 = Rp15,594'),\n",
       " ('2022-12-7', '$1 = Rp15,612'),\n",
       " ('2022-12-6', '$1 = Rp15,625'),\n",
       " ('2022-12-5', '$1 = Rp15,520'),\n",
       " ('2022-12-2', '$1 = Rp15,376'),\n",
       " ('2022-12-1', '$1 = Rp15,389'),\n",
       " ('2022-11-30', '$1 = Rp15,633'),\n",
       " ('2022-11-29', '$1 = Rp15,734'),\n",
       " ('2022-11-28', '$1 = Rp15,743'),\n",
       " ('2022-11-25', '$1 = Rp15,693'),\n",
       " ('2022-11-24', '$1 = Rp15,647'),\n",
       " ('2022-11-23', '$1 = Rp15,626'),\n",
       " ('2022-11-22', '$1 = Rp15,664'),\n",
       " ('2022-11-21', '$1 = Rp15,741'),\n",
       " ('2022-11-18', '$1 = Rp15,641'),\n",
       " ('2022-11-17', '$1 = Rp15,714'),\n",
       " ('2022-11-16', '$1 = Rp15,639'),\n",
       " ('2022-11-15', '$1 = Rp15,557'),\n",
       " ('2022-11-14', '$1 = Rp15,554')]"
      ]
     },
     "execution_count": 31,
     "metadata": {},
     "output_type": "execute_result"
    }
   ],
   "source": [
    "temp = [] #initiating a tuple\n",
    "\n",
    "for i in range(0, rows):  #start from 0 to get first data index\n",
    "\n",
    "    #scrapping process\n",
    "    #get period \n",
    "    date_all = soup.find_all('a', attrs={'class':'n'})[i].text\n",
    "    date_all = date_all.strip() # to remove excess white space\n",
    "    \n",
    "    #get exchange rate\n",
    "    exchangerate_all = soup.find_all('span', attrs={'class':'w'})[i].text\n",
    "    exchangerate_all = exchangerate_all.strip() # to remove excess white space\n",
    "    \n",
    "    \n",
    "    temp.append((date_all,exchangerate_all)) \n",
    "    \n",
    "    \n",
    "temp"
   ]
  },
  {
   "cell_type": "code",
   "execution_count": 32,
   "metadata": {},
   "outputs": [
    {
     "data": {
      "text/plain": [
       "[('2022-11-14', '$1 = Rp15,554'),\n",
       " ('2022-11-15', '$1 = Rp15,557'),\n",
       " ('2022-11-16', '$1 = Rp15,639'),\n",
       " ('2022-11-17', '$1 = Rp15,714'),\n",
       " ('2022-11-18', '$1 = Rp15,641'),\n",
       " ('2022-11-21', '$1 = Rp15,741'),\n",
       " ('2022-11-22', '$1 = Rp15,664'),\n",
       " ('2022-11-23', '$1 = Rp15,626'),\n",
       " ('2022-11-24', '$1 = Rp15,647'),\n",
       " ('2022-11-25', '$1 = Rp15,693')]"
      ]
     },
     "execution_count": 32,
     "metadata": {},
     "output_type": "execute_result"
    }
   ],
   "source": [
    "temp = temp[::-1]\n",
    "temp[:10]"
   ]
  },
  {
   "cell_type": "markdown",
   "metadata": {},
   "source": [
    "## Creating data frame & Data wrangling"
   ]
  },
  {
   "cell_type": "markdown",
   "metadata": {},
   "source": [
    "Put the array into dataframe"
   ]
  },
  {
   "cell_type": "code",
   "execution_count": 43,
   "metadata": {
    "ExecuteTime": {
     "end_time": "2020-01-13T05:12:41.517372Z",
     "start_time": "2020-01-13T05:12:29.130015Z"
    }
   },
   "outputs": [
    {
     "data": {
      "text/html": [
       "<div>\n",
       "<style scoped>\n",
       "    .dataframe tbody tr th:only-of-type {\n",
       "        vertical-align: middle;\n",
       "    }\n",
       "\n",
       "    .dataframe tbody tr th {\n",
       "        vertical-align: top;\n",
       "    }\n",
       "\n",
       "    .dataframe thead th {\n",
       "        text-align: right;\n",
       "    }\n",
       "</style>\n",
       "<table border=\"1\" class=\"dataframe\">\n",
       "  <thead>\n",
       "    <tr style=\"text-align: right;\">\n",
       "      <th></th>\n",
       "      <th>date</th>\n",
       "      <th>exchange_rate</th>\n",
       "    </tr>\n",
       "  </thead>\n",
       "  <tbody>\n",
       "    <tr>\n",
       "      <th>0</th>\n",
       "      <td>2022-11-14</td>\n",
       "      <td>$1 = Rp15,554</td>\n",
       "    </tr>\n",
       "    <tr>\n",
       "      <th>1</th>\n",
       "      <td>2022-11-15</td>\n",
       "      <td>$1 = Rp15,557</td>\n",
       "    </tr>\n",
       "    <tr>\n",
       "      <th>2</th>\n",
       "      <td>2022-11-16</td>\n",
       "      <td>$1 = Rp15,639</td>\n",
       "    </tr>\n",
       "  </tbody>\n",
       "</table>\n",
       "</div>"
      ],
      "text/plain": [
       "         date  exchange_rate\n",
       "0  2022-11-14  $1 = Rp15,554\n",
       "1  2022-11-15  $1 = Rp15,557\n",
       "2  2022-11-16  $1 = Rp15,639"
      ]
     },
     "execution_count": 43,
     "metadata": {},
     "output_type": "execute_result"
    }
   ],
   "source": [
    "import pandas as pd\n",
    "\n",
    "df = pd.DataFrame(temp, columns = ('date','exchange_rate'))\n",
    "df.head(3)"
   ]
  },
  {
   "cell_type": "code",
   "execution_count": 44,
   "metadata": {},
   "outputs": [
    {
     "name": "stdout",
     "output_type": "stream",
     "text": [
      "<class 'pandas.core.frame.DataFrame'>\n",
      "RangeIndex: 130 entries, 0 to 129\n",
      "Data columns (total 2 columns):\n",
      " #   Column         Non-Null Count  Dtype \n",
      "---  ------         --------------  ----- \n",
      " 0   date           130 non-null    object\n",
      " 1   exchange_rate  130 non-null    object\n",
      "dtypes: object(2)\n",
      "memory usage: 2.2+ KB\n"
     ]
    }
   ],
   "source": [
    "#check the dataframe\n",
    "df.info()"
   ]
  },
  {
   "cell_type": "markdown",
   "metadata": {},
   "source": [
    "- Note for data cleaning :\n",
    "    * The type of `date` is `object`. Convert this to `datetime64` using astype\n",
    "    * Remove `currency_simbol` in `exchange_rate` using str.replace. make numeric only\n",
    "    * Remove comma from the `exchange_rate` decimal representation using str.replace\n",
    "    * The type of `exchange_rate` is `object`. Convert this to `float` using astype\n",
    "    * Missing value not found"
   ]
  },
  {
   "cell_type": "code",
   "execution_count": 45,
   "metadata": {},
   "outputs": [],
   "source": [
    "df['date'] = df['date'].astype('datetime64[ns]')\n",
    "df['exchange_rate'] = df['exchange_rate'].str.replace(\"$1 = Rp\",' ')\n",
    "df['exchange_rate'] = df['exchange_rate'].str.replace(',','.')\n",
    "df['exchange_rate'] = df['exchange_rate'].astype('float64')\n"
   ]
  },
  {
   "cell_type": "code",
   "execution_count": 46,
   "metadata": {},
   "outputs": [
    {
     "name": "stdout",
     "output_type": "stream",
     "text": [
      "<class 'pandas.core.frame.DataFrame'>\n",
      "RangeIndex: 130 entries, 0 to 129\n",
      "Data columns (total 2 columns):\n",
      " #   Column         Non-Null Count  Dtype         \n",
      "---  ------         --------------  -----         \n",
      " 0   date           130 non-null    datetime64[ns]\n",
      " 1   exchange_rate  130 non-null    float64       \n",
      "dtypes: datetime64[ns](1), float64(1)\n",
      "memory usage: 2.2 KB\n"
     ]
    }
   ],
   "source": [
    "df.info()"
   ]
  },
  {
   "cell_type": "markdown",
   "metadata": {},
   "source": [
    "### Implementing your webscrapping to the flask dashboard\n",
    "\n",
    "- Copy paste all of your web scrapping process to the desired position on the `app.py`\n",
    "- Changing the title of the dasboard at `index.html`"
   ]
  },
  {
   "cell_type": "markdown",
   "metadata": {},
   "source": [
    "## Finishing This Notebook with Your Analysis and Conclusion\n",
    "\n",
    "First you can do start with making the data visualisation. "
   ]
  },
  {
   "cell_type": "markdown",
   "metadata": {},
   "source": [
    "- Note for visualization:\n",
    "    * Change index in `df` dataframe from default index to `date` using set_index  "
   ]
  },
  {
   "cell_type": "code",
   "execution_count": 53,
   "metadata": {
    "ExecuteTime": {
     "end_time": "2020-01-13T05:20:56.208237Z",
     "start_time": "2020-01-13T05:20:56.076043Z"
    }
   },
   "outputs": [
    {
     "data": {
      "image/png": "[encoded data removed]",
      "text/plain": [
       "<Figure size 800x550 with 1 Axes>"
      ]
     },
     "metadata": {},
     "output_type": "display_data"
    }
   ],
   "source": [
    "import matplotlib.pyplot as plt\n",
    "plt.style.use('seaborn-v0_8')\n",
    "df.set_index('date').plot()\n",
    "plt.legend().remove()\n",
    "plt.title('Indonesian Rupiahs (IDR) per US Dollar (USD)')\n",
    "plt.ylabel('Indonesian Rupiahs ( IDR )')\n",
    "plt.xlabel('Date')\n",
    "plt.show()"
   ]
  },
  {
   "cell_type": "code",
   "execution_count": 64,
   "metadata": {},
   "outputs": [
    {
     "name": "stdout",
     "output_type": "stream",
     "text": [
      "Minimum Rate: IDR 14.674/USD on ['2023-04-28']\n",
      "Average Rate: IDR 15.241/USD\n",
      "Maximal Rate: IDR 15.789/USD on ['2022-12-28']\n"
     ]
    }
   ],
   "source": [
    "min_rate = df['exchange_rate'].min()\n",
    "avg_rate = df['exchange_rate'].mean()\n",
    "max_rate = df['exchange_rate'].max()\n",
    "print(f\"Minimum Rate: IDR {min_rate.round(3)}/USD on {df.loc[df['exchange_rate'] == min_rate, 'date'].astype(str).values}\")\n",
    "print(f\"Average Rate: IDR {avg_rate.round(3)}/USD\")\n",
    "print(f\"Maximal Rate: IDR {max_rate.round(3)}/USD on {df.loc[df['exchange_rate'] == max_rate, 'date'].astype(str).values}\")"
   ]
  },
  {
   "cell_type": "markdown",
   "metadata": {},
   "source": [
    "At the end of 2022, the value of the dollar tends to rise, and was recorded as touching 15,789 IDR on December 28 2022 which was predicted due to the Russia-Ukraine war and the issue of world recession, then after entering 2023 before entering February 2023 it tends to drop to below 15,000 IDR. For the period February 2023 to April 2023, the trend chart shows a fluctuating trend. Towards May 2023 the chart continued to fall and reached its lowest point on April 28 2023 to 14,674 IDR. This was caused by the issue that several countries in the world began to abandon the dollar as their trading currency. Until the latest data on May 12 2023, the value of the dollar currency was still below 15,000 IDR."
   ]
  },
  {
   "cell_type": "markdown",
   "metadata": {},
   "source": [
    "### Implement it at the webapps\n",
    "\n",
    "- You can create additional analysis from the data.\n",
    "- Implement it to the dashboard with at `app.py` dan `index.html`."
   ]
  }
 ],
 "metadata": {
  "kernelspec": {
   "display_name": "vulcan_da",
   "language": "python",
   "name": "vulcan_da"
  },
  "language_info": {
   "codemirror_mode": {
    "name": "ipython",
    "version": 3
   },
   "file_extension": ".py",
   "mimetype": "text/x-python",
   "name": "python",
   "nbconvert_exporter": "python",
   "pygments_lexer": "ipython3",
   "version": "3.10.10"
  }
 },
 "nbformat": 4,
 "nbformat_minor": 2
}
